{
 "cells": [
  {
   "attachments": {},
   "cell_type": "markdown",
   "metadata": {},
   "source": [
    "## Import Libray"
   ]
  },
  {
   "cell_type": "code",
   "execution_count": 234,
   "metadata": {},
   "outputs": [],
   "source": [
    "import pandas as pd"
   ]
  },
  {
   "attachments": {},
   "cell_type": "markdown",
   "metadata": {},
   "source": [
    "## Load Dataset"
   ]
  },
  {
   "cell_type": "code",
   "execution_count": 235,
   "metadata": {},
   "outputs": [],
   "source": [
    "df_faskes = pd.read_csv('Jumlah Faskes Jabar.csv')\n",
    "df_jamkes = pd.read_csv('Jaminan Kesehatan Jabar.csv')\n",
    "wilayah = pd.read_csv('wilayah jabar.csv')"
   ]
  },
  {
   "attachments": {},
   "cell_type": "markdown",
   "metadata": {},
   "source": [
    "### 1. Clean Data Faskes"
   ]
  },
  {
   "cell_type": "code",
   "execution_count": 236,
   "metadata": {},
   "outputs": [
    {
     "data": {
      "text/html": [
       "<div>\n",
       "<style scoped>\n",
       "    .dataframe tbody tr th:only-of-type {\n",
       "        vertical-align: middle;\n",
       "    }\n",
       "\n",
       "    .dataframe tbody tr th {\n",
       "        vertical-align: top;\n",
       "    }\n",
       "\n",
       "    .dataframe thead th {\n",
       "        text-align: right;\n",
       "    }\n",
       "</style>\n",
       "<table border=\"1\" class=\"dataframe\">\n",
       "  <thead>\n",
       "    <tr style=\"text-align: right;\">\n",
       "      <th></th>\n",
       "      <th>kode_provinsi</th>\n",
       "      <th>nama_provinsi</th>\n",
       "      <th>kode_kabupaten_kota</th>\n",
       "      <th>nama_kabupaten_kota</th>\n",
       "      <th>jenis_faskes</th>\n",
       "      <th>jumlah_faskes</th>\n",
       "      <th>satuan</th>\n",
       "    </tr>\n",
       "  </thead>\n",
       "  <tbody>\n",
       "    <tr>\n",
       "      <th>0</th>\n",
       "      <td>32</td>\n",
       "      <td>JAWA BARAT</td>\n",
       "      <td>3201</td>\n",
       "      <td>KABUPATEN BOGOR</td>\n",
       "      <td>RUMAH SAKIT UMUM</td>\n",
       "      <td>9</td>\n",
       "      <td>UNIT</td>\n",
       "    </tr>\n",
       "    <tr>\n",
       "      <th>1</th>\n",
       "      <td>32</td>\n",
       "      <td>JAWA BARAT</td>\n",
       "      <td>3201</td>\n",
       "      <td>KABUPATEN BOGOR</td>\n",
       "      <td>RUMAH SAKIT KHUSUS</td>\n",
       "      <td>0</td>\n",
       "      <td>UNIT</td>\n",
       "    </tr>\n",
       "    <tr>\n",
       "      <th>2</th>\n",
       "      <td>32</td>\n",
       "      <td>JAWA BARAT</td>\n",
       "      <td>3201</td>\n",
       "      <td>KABUPATEN BOGOR</td>\n",
       "      <td>RUMAH SAKIT BERSALIN</td>\n",
       "      <td>0</td>\n",
       "      <td>UNIT</td>\n",
       "    </tr>\n",
       "    <tr>\n",
       "      <th>3</th>\n",
       "      <td>32</td>\n",
       "      <td>JAWA BARAT</td>\n",
       "      <td>3201</td>\n",
       "      <td>KABUPATEN BOGOR</td>\n",
       "      <td>PUSKESMAS</td>\n",
       "      <td>62</td>\n",
       "      <td>UNIT</td>\n",
       "    </tr>\n",
       "    <tr>\n",
       "      <th>4</th>\n",
       "      <td>32</td>\n",
       "      <td>JAWA BARAT</td>\n",
       "      <td>3201</td>\n",
       "      <td>KABUPATEN BOGOR</td>\n",
       "      <td>POSYANDU</td>\n",
       "      <td>4927</td>\n",
       "      <td>UNIT</td>\n",
       "    </tr>\n",
       "  </tbody>\n",
       "</table>\n",
       "</div>"
      ],
      "text/plain": [
       "   kode_provinsi nama_provinsi  kode_kabupaten_kota nama_kabupaten_kota  \\\n",
       "0             32    JAWA BARAT                 3201     KABUPATEN BOGOR   \n",
       "1             32    JAWA BARAT                 3201     KABUPATEN BOGOR   \n",
       "2             32    JAWA BARAT                 3201     KABUPATEN BOGOR   \n",
       "3             32    JAWA BARAT                 3201     KABUPATEN BOGOR   \n",
       "4             32    JAWA BARAT                 3201     KABUPATEN BOGOR   \n",
       "\n",
       "           jenis_faskes  jumlah_faskes satuan  \n",
       "0      RUMAH SAKIT UMUM              9   UNIT  \n",
       "1    RUMAH SAKIT KHUSUS              0   UNIT  \n",
       "2  RUMAH SAKIT BERSALIN              0   UNIT  \n",
       "3             PUSKESMAS             62   UNIT  \n",
       "4              POSYANDU           4927   UNIT  "
      ]
     },
     "execution_count": 236,
     "metadata": {},
     "output_type": "execute_result"
    }
   ],
   "source": [
    "#show 5 data teratas\n",
    "df_faskes.head()"
   ]
  },
  {
   "cell_type": "code",
   "execution_count": 237,
   "metadata": {},
   "outputs": [
    {
     "data": {
      "text/html": [
       "<div>\n",
       "<style scoped>\n",
       "    .dataframe tbody tr th:only-of-type {\n",
       "        vertical-align: middle;\n",
       "    }\n",
       "\n",
       "    .dataframe tbody tr th {\n",
       "        vertical-align: top;\n",
       "    }\n",
       "\n",
       "    .dataframe thead th {\n",
       "        text-align: right;\n",
       "    }\n",
       "</style>\n",
       "<table border=\"1\" class=\"dataframe\">\n",
       "  <thead>\n",
       "    <tr style=\"text-align: right;\">\n",
       "      <th></th>\n",
       "      <th>kode_provinsi</th>\n",
       "      <th>nama_provinsi</th>\n",
       "      <th>kode_kabupaten_kota</th>\n",
       "      <th>nama_kabupaten_kota</th>\n",
       "      <th>jenis_faskes</th>\n",
       "      <th>jumlah_faskes</th>\n",
       "      <th>satuan</th>\n",
       "    </tr>\n",
       "  </thead>\n",
       "  <tbody>\n",
       "    <tr>\n",
       "      <th>265</th>\n",
       "      <td>32</td>\n",
       "      <td>JAWA BARAT</td>\n",
       "      <td>3279</td>\n",
       "      <td>KOTA BANJAR</td>\n",
       "      <td>RUMAH SAKIT UMUM</td>\n",
       "      <td>3</td>\n",
       "      <td>UNIT</td>\n",
       "    </tr>\n",
       "    <tr>\n",
       "      <th>266</th>\n",
       "      <td>32</td>\n",
       "      <td>JAWA BARAT</td>\n",
       "      <td>3279</td>\n",
       "      <td>KOTA BANJAR</td>\n",
       "      <td>RUMAH SAKIT KHUSUS</td>\n",
       "      <td>0</td>\n",
       "      <td>UNIT</td>\n",
       "    </tr>\n",
       "    <tr>\n",
       "      <th>267</th>\n",
       "      <td>32</td>\n",
       "      <td>JAWA BARAT</td>\n",
       "      <td>3279</td>\n",
       "      <td>KOTA BANJAR</td>\n",
       "      <td>RUMAH SAKIT BERSALIN</td>\n",
       "      <td>0</td>\n",
       "      <td>UNIT</td>\n",
       "    </tr>\n",
       "    <tr>\n",
       "      <th>268</th>\n",
       "      <td>32</td>\n",
       "      <td>JAWA BARAT</td>\n",
       "      <td>3279</td>\n",
       "      <td>KOTA BANJAR</td>\n",
       "      <td>PUSKESMAS</td>\n",
       "      <td>10</td>\n",
       "      <td>UNIT</td>\n",
       "    </tr>\n",
       "    <tr>\n",
       "      <th>269</th>\n",
       "      <td>32</td>\n",
       "      <td>JAWA BARAT</td>\n",
       "      <td>3279</td>\n",
       "      <td>KOTA BANJAR</td>\n",
       "      <td>POSYANDU</td>\n",
       "      <td>0</td>\n",
       "      <td>UNIT</td>\n",
       "    </tr>\n",
       "  </tbody>\n",
       "</table>\n",
       "</div>"
      ],
      "text/plain": [
       "     kode_provinsi nama_provinsi  kode_kabupaten_kota nama_kabupaten_kota  \\\n",
       "265             32    JAWA BARAT                 3279         KOTA BANJAR   \n",
       "266             32    JAWA BARAT                 3279         KOTA BANJAR   \n",
       "267             32    JAWA BARAT                 3279         KOTA BANJAR   \n",
       "268             32    JAWA BARAT                 3279         KOTA BANJAR   \n",
       "269             32    JAWA BARAT                 3279         KOTA BANJAR   \n",
       "\n",
       "             jenis_faskes  jumlah_faskes satuan  \n",
       "265      RUMAH SAKIT UMUM              3   UNIT  \n",
       "266    RUMAH SAKIT KHUSUS              0   UNIT  \n",
       "267  RUMAH SAKIT BERSALIN              0   UNIT  \n",
       "268             PUSKESMAS             10   UNIT  \n",
       "269              POSYANDU              0   UNIT  "
      ]
     },
     "execution_count": 237,
     "metadata": {},
     "output_type": "execute_result"
    }
   ],
   "source": [
    "#show 5 data terbawah\n",
    "df_faskes.tail()"
   ]
  },
  {
   "attachments": {},
   "cell_type": "markdown",
   "metadata": {},
   "source": [
    "## Preprocessing Data Faskes"
   ]
  },
  {
   "cell_type": "code",
   "execution_count": 238,
   "metadata": {},
   "outputs": [
    {
     "data": {
      "text/html": [
       "<div>\n",
       "<style scoped>\n",
       "    .dataframe tbody tr th:only-of-type {\n",
       "        vertical-align: middle;\n",
       "    }\n",
       "\n",
       "    .dataframe tbody tr th {\n",
       "        vertical-align: top;\n",
       "    }\n",
       "\n",
       "    .dataframe thead th {\n",
       "        text-align: right;\n",
       "    }\n",
       "</style>\n",
       "<table border=\"1\" class=\"dataframe\">\n",
       "  <thead>\n",
       "    <tr style=\"text-align: right;\">\n",
       "      <th></th>\n",
       "      <th>kode_provinsi</th>\n",
       "      <th>nama_provinsi</th>\n",
       "      <th>kode_kabupaten_kota</th>\n",
       "      <th>nama_kabupaten_kota</th>\n",
       "      <th>jenis_faskes</th>\n",
       "      <th>jumlah_faskes</th>\n",
       "      <th>satuan</th>\n",
       "      <th>bps_kota_nama</th>\n",
       "      <th>latitude</th>\n",
       "      <th>longitude</th>\n",
       "    </tr>\n",
       "  </thead>\n",
       "  <tbody>\n",
       "    <tr>\n",
       "      <th>0</th>\n",
       "      <td>32</td>\n",
       "      <td>JAWA BARAT</td>\n",
       "      <td>3201</td>\n",
       "      <td>KABUPATEN BOGOR</td>\n",
       "      <td>RUMAH SAKIT UMUM</td>\n",
       "      <td>9</td>\n",
       "      <td>UNIT</td>\n",
       "      <td>KABUPATEN BOGOR</td>\n",
       "      <td>-6.479679</td>\n",
       "      <td>106.824965</td>\n",
       "    </tr>\n",
       "    <tr>\n",
       "      <th>1</th>\n",
       "      <td>32</td>\n",
       "      <td>JAWA BARAT</td>\n",
       "      <td>3201</td>\n",
       "      <td>KABUPATEN BOGOR</td>\n",
       "      <td>RUMAH SAKIT KHUSUS</td>\n",
       "      <td>0</td>\n",
       "      <td>UNIT</td>\n",
       "      <td>KABUPATEN BOGOR</td>\n",
       "      <td>-6.479679</td>\n",
       "      <td>106.824965</td>\n",
       "    </tr>\n",
       "    <tr>\n",
       "      <th>2</th>\n",
       "      <td>32</td>\n",
       "      <td>JAWA BARAT</td>\n",
       "      <td>3201</td>\n",
       "      <td>KABUPATEN BOGOR</td>\n",
       "      <td>RUMAH SAKIT BERSALIN</td>\n",
       "      <td>0</td>\n",
       "      <td>UNIT</td>\n",
       "      <td>KABUPATEN BOGOR</td>\n",
       "      <td>-6.479679</td>\n",
       "      <td>106.824965</td>\n",
       "    </tr>\n",
       "    <tr>\n",
       "      <th>3</th>\n",
       "      <td>32</td>\n",
       "      <td>JAWA BARAT</td>\n",
       "      <td>3201</td>\n",
       "      <td>KABUPATEN BOGOR</td>\n",
       "      <td>PUSKESMAS</td>\n",
       "      <td>62</td>\n",
       "      <td>UNIT</td>\n",
       "      <td>KABUPATEN BOGOR</td>\n",
       "      <td>-6.479679</td>\n",
       "      <td>106.824965</td>\n",
       "    </tr>\n",
       "    <tr>\n",
       "      <th>4</th>\n",
       "      <td>32</td>\n",
       "      <td>JAWA BARAT</td>\n",
       "      <td>3201</td>\n",
       "      <td>KABUPATEN BOGOR</td>\n",
       "      <td>POSYANDU</td>\n",
       "      <td>4927</td>\n",
       "      <td>UNIT</td>\n",
       "      <td>KABUPATEN BOGOR</td>\n",
       "      <td>-6.479679</td>\n",
       "      <td>106.824965</td>\n",
       "    </tr>\n",
       "  </tbody>\n",
       "</table>\n",
       "</div>"
      ],
      "text/plain": [
       "   kode_provinsi nama_provinsi  kode_kabupaten_kota nama_kabupaten_kota  \\\n",
       "0             32    JAWA BARAT                 3201     KABUPATEN BOGOR   \n",
       "1             32    JAWA BARAT                 3201     KABUPATEN BOGOR   \n",
       "2             32    JAWA BARAT                 3201     KABUPATEN BOGOR   \n",
       "3             32    JAWA BARAT                 3201     KABUPATEN BOGOR   \n",
       "4             32    JAWA BARAT                 3201     KABUPATEN BOGOR   \n",
       "\n",
       "           jenis_faskes  jumlah_faskes satuan    bps_kota_nama  latitude  \\\n",
       "0      RUMAH SAKIT UMUM              9   UNIT  KABUPATEN BOGOR -6.479679   \n",
       "1    RUMAH SAKIT KHUSUS              0   UNIT  KABUPATEN BOGOR -6.479679   \n",
       "2  RUMAH SAKIT BERSALIN              0   UNIT  KABUPATEN BOGOR -6.479679   \n",
       "3             PUSKESMAS             62   UNIT  KABUPATEN BOGOR -6.479679   \n",
       "4              POSYANDU           4927   UNIT  KABUPATEN BOGOR -6.479679   \n",
       "\n",
       "    longitude  \n",
       "0  106.824965  \n",
       "1  106.824965  \n",
       "2  106.824965  \n",
       "3  106.824965  \n",
       "4  106.824965  "
      ]
     },
     "execution_count": 238,
     "metadata": {},
     "output_type": "execute_result"
    }
   ],
   "source": [
    "#merge data faskes dengan wilayah\n",
    "faskes = pd.merge(df_faskes,wilayah[['bps_kota_nama','latitude','longitude']],left_on='nama_kabupaten_kota',right_on='bps_kota_nama')\n",
    "faskes.head()"
   ]
  },
  {
   "cell_type": "code",
   "execution_count": 239,
   "metadata": {},
   "outputs": [
    {
     "name": "stdout",
     "output_type": "stream",
     "text": [
      "270 Baris\n",
      "10 Kolom\n"
     ]
    }
   ],
   "source": [
    "#cek jumlah baris kolom\n",
    "baris, kolom = faskes.shape\n",
    "print(baris, 'Baris')\n",
    "print(kolom, 'Kolom')"
   ]
  },
  {
   "cell_type": "code",
   "execution_count": 240,
   "metadata": {},
   "outputs": [
    {
     "data": {
      "text/plain": [
       "Index(['kode_provinsi', 'nama_provinsi', 'kode_kabupaten_kota',\n",
       "       'nama_kabupaten_kota', 'jenis_faskes', 'jumlah_faskes', 'satuan',\n",
       "       'bps_kota_nama', 'latitude', 'longitude'],\n",
       "      dtype='object')"
      ]
     },
     "execution_count": 240,
     "metadata": {},
     "output_type": "execute_result"
    }
   ],
   "source": [
    "#cek column\n",
    "faskes.columns"
   ]
  },
  {
   "cell_type": "code",
   "execution_count": 241,
   "metadata": {},
   "outputs": [
    {
     "name": "stdout",
     "output_type": "stream",
     "text": [
      "<class 'pandas.core.frame.DataFrame'>\n",
      "Int64Index: 270 entries, 0 to 269\n",
      "Data columns (total 10 columns):\n",
      " #   Column               Non-Null Count  Dtype  \n",
      "---  ------               --------------  -----  \n",
      " 0   kode_provinsi        270 non-null    int64  \n",
      " 1   nama_provinsi        270 non-null    object \n",
      " 2   kode_kabupaten_kota  270 non-null    int64  \n",
      " 3   nama_kabupaten_kota  270 non-null    object \n",
      " 4   jenis_faskes         270 non-null    object \n",
      " 5   jumlah_faskes        270 non-null    int64  \n",
      " 6   satuan               270 non-null    object \n",
      " 7   bps_kota_nama        270 non-null    object \n",
      " 8   latitude             270 non-null    float64\n",
      " 9   longitude            270 non-null    float64\n",
      "dtypes: float64(2), int64(3), object(5)\n",
      "memory usage: 23.2+ KB\n"
     ]
    }
   ],
   "source": [
    "#cek info data\n",
    "faskes.info()"
   ]
  },
  {
   "cell_type": "code",
   "execution_count": 242,
   "metadata": {},
   "outputs": [],
   "source": [
    "#hapus kolom yang tidak diperlukan\n",
    "faskes.drop(['kode_provinsi','nama_provinsi','bps_kota_nama','satuan'], axis=1,inplace=True)"
   ]
  },
  {
   "cell_type": "code",
   "execution_count": 243,
   "metadata": {},
   "outputs": [
    {
     "name": "stdout",
     "output_type": "stream",
     "text": [
      "<class 'pandas.core.frame.DataFrame'>\n",
      "Int64Index: 270 entries, 0 to 269\n",
      "Data columns (total 6 columns):\n",
      " #   Column               Non-Null Count  Dtype  \n",
      "---  ------               --------------  -----  \n",
      " 0   kode_kabupaten_kota  270 non-null    int64  \n",
      " 1   nama_kabupaten_kota  270 non-null    object \n",
      " 2   jenis_faskes         270 non-null    object \n",
      " 3   jumlah_faskes        270 non-null    int64  \n",
      " 4   latitude             270 non-null    float64\n",
      " 5   longitude            270 non-null    float64\n",
      "dtypes: float64(2), int64(2), object(2)\n",
      "memory usage: 14.8+ KB\n"
     ]
    }
   ],
   "source": [
    "#cek info faskes\n",
    "faskes.info()"
   ]
  },
  {
   "cell_type": "code",
   "execution_count": 244,
   "metadata": {},
   "outputs": [
    {
     "data": {
      "text/plain": [
       "kode_kabupaten_kota    0\n",
       "nama_kabupaten_kota    0\n",
       "jenis_faskes           0\n",
       "jumlah_faskes          0\n",
       "latitude               0\n",
       "longitude              0\n",
       "dtype: int64"
      ]
     },
     "execution_count": 244,
     "metadata": {},
     "output_type": "execute_result"
    }
   ],
   "source": [
    "# cek missing value\n",
    "faskes.isnull().sum()"
   ]
  },
  {
   "cell_type": "code",
   "execution_count": 245,
   "metadata": {},
   "outputs": [
    {
     "name": "stdout",
     "output_type": "stream",
     "text": [
      "Kolom:  KODE_KABUPATEN_KOTA\n",
      "[3201 3202 3203 3204 3205 3206 3207 3208 3209 3210 3211 3212 3213 3214\n",
      " 3215 3216 3217 3218 3271 3272 3273 3274 3275 3276 3277 3278 3279]\n",
      "====================================================================================================\n",
      "Kolom:  NAMA_KABUPATEN_KOTA\n",
      "['KABUPATEN BOGOR' 'KABUPATEN SUKABUMI' 'KABUPATEN CIANJUR'\n",
      " 'KABUPATEN BANDUNG' 'KABUPATEN GARUT' 'KABUPATEN TASIKMALAYA'\n",
      " 'KABUPATEN CIAMIS' 'KABUPATEN KUNINGAN' 'KABUPATEN CIREBON'\n",
      " 'KABUPATEN MAJALENGKA' 'KABUPATEN SUMEDANG' 'KABUPATEN INDRAMAYU'\n",
      " 'KABUPATEN SUBANG' 'KABUPATEN PURWAKARTA' 'KABUPATEN KARAWANG'\n",
      " 'KABUPATEN BEKASI' 'KABUPATEN BANDUNG BARAT' 'KABUPATEN PANGANDARAN'\n",
      " 'KOTA BOGOR' 'KOTA SUKABUMI' 'KOTA BANDUNG' 'KOTA CIREBON' 'KOTA BEKASI'\n",
      " 'KOTA DEPOK' 'KOTA CIMAHI' 'KOTA TASIKMALAYA' 'KOTA BANJAR']\n",
      "====================================================================================================\n",
      "Kolom:  JENIS_FASKES\n",
      "['RUMAH SAKIT UMUM' 'RUMAH SAKIT KHUSUS' 'RUMAH SAKIT BERSALIN'\n",
      " 'PUSKESMAS' 'POSYANDU']\n",
      "====================================================================================================\n",
      "Kolom:  JUMLAH_FASKES\n",
      "[   9    0   62 4927   23    6  101    7   32 3551   58    8    3   44\n",
      " 2903    4   45    2   14 4294   37 4104   67    1 2301   40   60 1601\n",
      "   65 1424   10   49 2618   21   50 1461    5 1649   35 2335   15 1848\n",
      "   20 1029 2311   18 2640   17 2339 1578   73  974   16   25  453   39\n",
      " 1983   80  331   22   13 1593   42   36 1024  403  871  199]\n",
      "====================================================================================================\n",
      "Kolom:  LATITUDE\n",
      "[-6.479679 -6.915727 -6.822558 -7.012851 -7.202988 -7.361212 -7.325788\n",
      " -6.976233 -6.764507 -6.836531 -6.861126 -6.327234 -6.571549 -6.551701\n",
      " -6.301721 -6.364614 -6.840651 -7.701397 -6.594946 -6.918366 -6.910786\n",
      " -6.707076 -6.236221 -6.394473 -6.87121  -7.316436 -7.362487]\n",
      "====================================================================================================\n",
      "Kolom:  LONGITUDE\n",
      "[106.824965 106.932576 107.139542 107.528627 107.885592 108.112488\n",
      " 108.3514   108.482982 108.478858 108.227876 107.920102 108.322903\n",
      " 107.762495 107.446541 107.30529  107.172509 107.512302 108.495155\n",
      " 106.794913 106.931496 107.609757 108.557818 106.994293 106.822692\n",
      " 107.555486 108.1971   108.55887 ]\n",
      "====================================================================================================\n"
     ]
    }
   ],
   "source": [
    "#cek nilai unik\n",
    "for col in faskes:\n",
    "    print('Kolom: ', col.upper())\n",
    "    print(faskes[col].unique())\n",
    "    print('='*100)"
   ]
  },
  {
   "attachments": {},
   "cell_type": "markdown",
   "metadata": {},
   "source": [
    "Tidak terlihat adanya nilai aneh. Kita langsung ke step selanjutnya cek nilai duplikat"
   ]
  },
  {
   "cell_type": "code",
   "execution_count": 246,
   "metadata": {},
   "outputs": [
    {
     "data": {
      "text/plain": [
       "32"
      ]
     },
     "execution_count": 246,
     "metadata": {},
     "output_type": "execute_result"
    }
   ],
   "source": [
    "#cek data duplikat\n",
    "faskes.duplicated().sum()"
   ]
  },
  {
   "cell_type": "code",
   "execution_count": 247,
   "metadata": {},
   "outputs": [],
   "source": [
    "#hapus data duplikat\n",
    "faskes.drop_duplicates(inplace=True)"
   ]
  },
  {
   "cell_type": "code",
   "execution_count": 248,
   "metadata": {},
   "outputs": [
    {
     "data": {
      "text/plain": [
       "0"
      ]
     },
     "execution_count": 248,
     "metadata": {},
     "output_type": "execute_result"
    }
   ],
   "source": [
    "#cek kembali data duplikat\n",
    "faskes.duplicated().sum()"
   ]
  },
  {
   "attachments": {},
   "cell_type": "markdown",
   "metadata": {},
   "source": [
    "Sekarang data duplikat telah diatasi. Dan bisa dipastikan data faskes ini sudah bersih. Sekarangt kita export kembali data ini ke .csv"
   ]
  },
  {
   "attachments": {},
   "cell_type": "markdown",
   "metadata": {},
   "source": [
    "## Export data hasil cleaning"
   ]
  },
  {
   "cell_type": "code",
   "execution_count": 249,
   "metadata": {},
   "outputs": [],
   "source": [
    "faskes.to_csv('Data Faskes Clean.csv', index=False)"
   ]
  },
  {
   "attachments": {},
   "cell_type": "markdown",
   "metadata": {},
   "source": [
    "## 2. Clean Data Jamkes"
   ]
  },
  {
   "cell_type": "code",
   "execution_count": 250,
   "metadata": {},
   "outputs": [
    {
     "data": {
      "text/html": [
       "<div>\n",
       "<style scoped>\n",
       "    .dataframe tbody tr th:only-of-type {\n",
       "        vertical-align: middle;\n",
       "    }\n",
       "\n",
       "    .dataframe tbody tr th {\n",
       "        vertical-align: top;\n",
       "    }\n",
       "\n",
       "    .dataframe thead th {\n",
       "        text-align: right;\n",
       "    }\n",
       "</style>\n",
       "<table border=\"1\" class=\"dataframe\">\n",
       "  <thead>\n",
       "    <tr style=\"text-align: right;\">\n",
       "      <th></th>\n",
       "      <th>kode_kabupaten_kota</th>\n",
       "      <th>nama_kabupaten_kota</th>\n",
       "      <th>jenis_faskes</th>\n",
       "      <th>jumlah_faskes</th>\n",
       "      <th>latitude</th>\n",
       "      <th>longitude</th>\n",
       "    </tr>\n",
       "  </thead>\n",
       "  <tbody>\n",
       "    <tr>\n",
       "      <th>0</th>\n",
       "      <td>3201</td>\n",
       "      <td>KABUPATEN BOGOR</td>\n",
       "      <td>RUMAH SAKIT UMUM</td>\n",
       "      <td>9</td>\n",
       "      <td>-6.479679</td>\n",
       "      <td>106.824965</td>\n",
       "    </tr>\n",
       "    <tr>\n",
       "      <th>1</th>\n",
       "      <td>3201</td>\n",
       "      <td>KABUPATEN BOGOR</td>\n",
       "      <td>RUMAH SAKIT KHUSUS</td>\n",
       "      <td>0</td>\n",
       "      <td>-6.479679</td>\n",
       "      <td>106.824965</td>\n",
       "    </tr>\n",
       "    <tr>\n",
       "      <th>2</th>\n",
       "      <td>3201</td>\n",
       "      <td>KABUPATEN BOGOR</td>\n",
       "      <td>RUMAH SAKIT BERSALIN</td>\n",
       "      <td>0</td>\n",
       "      <td>-6.479679</td>\n",
       "      <td>106.824965</td>\n",
       "    </tr>\n",
       "    <tr>\n",
       "      <th>3</th>\n",
       "      <td>3201</td>\n",
       "      <td>KABUPATEN BOGOR</td>\n",
       "      <td>PUSKESMAS</td>\n",
       "      <td>62</td>\n",
       "      <td>-6.479679</td>\n",
       "      <td>106.824965</td>\n",
       "    </tr>\n",
       "    <tr>\n",
       "      <th>4</th>\n",
       "      <td>3201</td>\n",
       "      <td>KABUPATEN BOGOR</td>\n",
       "      <td>POSYANDU</td>\n",
       "      <td>4927</td>\n",
       "      <td>-6.479679</td>\n",
       "      <td>106.824965</td>\n",
       "    </tr>\n",
       "  </tbody>\n",
       "</table>\n",
       "</div>"
      ],
      "text/plain": [
       "   kode_kabupaten_kota nama_kabupaten_kota          jenis_faskes  \\\n",
       "0                 3201     KABUPATEN BOGOR      RUMAH SAKIT UMUM   \n",
       "1                 3201     KABUPATEN BOGOR    RUMAH SAKIT KHUSUS   \n",
       "2                 3201     KABUPATEN BOGOR  RUMAH SAKIT BERSALIN   \n",
       "3                 3201     KABUPATEN BOGOR             PUSKESMAS   \n",
       "4                 3201     KABUPATEN BOGOR              POSYANDU   \n",
       "\n",
       "   jumlah_faskes  latitude   longitude  \n",
       "0              9 -6.479679  106.824965  \n",
       "1              0 -6.479679  106.824965  \n",
       "2              0 -6.479679  106.824965  \n",
       "3             62 -6.479679  106.824965  \n",
       "4           4927 -6.479679  106.824965  "
      ]
     },
     "execution_count": 250,
     "metadata": {},
     "output_type": "execute_result"
    }
   ],
   "source": [
    "#merge data faskes dengan wilayah\n",
    "jamkes = pd.merge(df_jamkes,wilayah[['bps_kota_nama','latitude','longitude']],left_on='nama_kabupaten_kota',right_on='bps_kota_nama')\n",
    "faskes.head()"
   ]
  },
  {
   "cell_type": "code",
   "execution_count": 251,
   "metadata": {},
   "outputs": [
    {
     "data": {
      "text/html": [
       "<div>\n",
       "<style scoped>\n",
       "    .dataframe tbody tr th:only-of-type {\n",
       "        vertical-align: middle;\n",
       "    }\n",
       "\n",
       "    .dataframe tbody tr th {\n",
       "        vertical-align: top;\n",
       "    }\n",
       "\n",
       "    .dataframe thead th {\n",
       "        text-align: right;\n",
       "    }\n",
       "</style>\n",
       "<table border=\"1\" class=\"dataframe\">\n",
       "  <thead>\n",
       "    <tr style=\"text-align: right;\">\n",
       "      <th></th>\n",
       "      <th>kode_provinsi</th>\n",
       "      <th>nama_provinsi</th>\n",
       "      <th>kode_kabupaten_kota</th>\n",
       "      <th>nama_kabupaten_kota</th>\n",
       "      <th>jaminan_kesehatan</th>\n",
       "      <th>jumlah_penduduk</th>\n",
       "      <th>satuan</th>\n",
       "      <th>bps_kota_nama</th>\n",
       "      <th>latitude</th>\n",
       "      <th>longitude</th>\n",
       "    </tr>\n",
       "  </thead>\n",
       "  <tbody>\n",
       "    <tr>\n",
       "      <th>0</th>\n",
       "      <td>32</td>\n",
       "      <td>JAWA BARAT</td>\n",
       "      <td>3201</td>\n",
       "      <td>KABUPATEN BOGOR</td>\n",
       "      <td>PENERIMA BANTUAN IURAN (PBI) APBN</td>\n",
       "      <td>1119615</td>\n",
       "      <td>JIWA</td>\n",
       "      <td>KABUPATEN BOGOR</td>\n",
       "      <td>-6.479679</td>\n",
       "      <td>106.824965</td>\n",
       "    </tr>\n",
       "    <tr>\n",
       "      <th>1</th>\n",
       "      <td>32</td>\n",
       "      <td>JAWA BARAT</td>\n",
       "      <td>3201</td>\n",
       "      <td>KABUPATEN BOGOR</td>\n",
       "      <td>PENERIMA BANTUAN IURAN (PBI) APBD</td>\n",
       "      <td>546641</td>\n",
       "      <td>JIWA</td>\n",
       "      <td>KABUPATEN BOGOR</td>\n",
       "      <td>-6.479679</td>\n",
       "      <td>106.824965</td>\n",
       "    </tr>\n",
       "    <tr>\n",
       "      <th>2</th>\n",
       "      <td>32</td>\n",
       "      <td>JAWA BARAT</td>\n",
       "      <td>3201</td>\n",
       "      <td>KABUPATEN BOGOR</td>\n",
       "      <td>PEKERJA PENERIMA UPAH (PPU)</td>\n",
       "      <td>792374</td>\n",
       "      <td>JIWA</td>\n",
       "      <td>KABUPATEN BOGOR</td>\n",
       "      <td>-6.479679</td>\n",
       "      <td>106.824965</td>\n",
       "    </tr>\n",
       "    <tr>\n",
       "      <th>3</th>\n",
       "      <td>32</td>\n",
       "      <td>JAWA BARAT</td>\n",
       "      <td>3201</td>\n",
       "      <td>KABUPATEN BOGOR</td>\n",
       "      <td>PEKERJA BUKAN PENERIMA UPAH (PBPU) / MANDIRI</td>\n",
       "      <td>999677</td>\n",
       "      <td>JIWA</td>\n",
       "      <td>KABUPATEN BOGOR</td>\n",
       "      <td>-6.479679</td>\n",
       "      <td>106.824965</td>\n",
       "    </tr>\n",
       "    <tr>\n",
       "      <th>4</th>\n",
       "      <td>32</td>\n",
       "      <td>JAWA BARAT</td>\n",
       "      <td>3201</td>\n",
       "      <td>KABUPATEN BOGOR</td>\n",
       "      <td>BUKAN PEKERJA (BP)</td>\n",
       "      <td>58725</td>\n",
       "      <td>JIWA</td>\n",
       "      <td>KABUPATEN BOGOR</td>\n",
       "      <td>-6.479679</td>\n",
       "      <td>106.824965</td>\n",
       "    </tr>\n",
       "  </tbody>\n",
       "</table>\n",
       "</div>"
      ],
      "text/plain": [
       "   kode_provinsi nama_provinsi  kode_kabupaten_kota nama_kabupaten_kota  \\\n",
       "0             32    JAWA BARAT                 3201     KABUPATEN BOGOR   \n",
       "1             32    JAWA BARAT                 3201     KABUPATEN BOGOR   \n",
       "2             32    JAWA BARAT                 3201     KABUPATEN BOGOR   \n",
       "3             32    JAWA BARAT                 3201     KABUPATEN BOGOR   \n",
       "4             32    JAWA BARAT                 3201     KABUPATEN BOGOR   \n",
       "\n",
       "                              jaminan_kesehatan  jumlah_penduduk satuan  \\\n",
       "0             PENERIMA BANTUAN IURAN (PBI) APBN          1119615   JIWA   \n",
       "1             PENERIMA BANTUAN IURAN (PBI) APBD           546641   JIWA   \n",
       "2                   PEKERJA PENERIMA UPAH (PPU)           792374   JIWA   \n",
       "3  PEKERJA BUKAN PENERIMA UPAH (PBPU) / MANDIRI           999677   JIWA   \n",
       "4                            BUKAN PEKERJA (BP)            58725   JIWA   \n",
       "\n",
       "     bps_kota_nama  latitude   longitude  \n",
       "0  KABUPATEN BOGOR -6.479679  106.824965  \n",
       "1  KABUPATEN BOGOR -6.479679  106.824965  \n",
       "2  KABUPATEN BOGOR -6.479679  106.824965  \n",
       "3  KABUPATEN BOGOR -6.479679  106.824965  \n",
       "4  KABUPATEN BOGOR -6.479679  106.824965  "
      ]
     },
     "execution_count": 251,
     "metadata": {},
     "output_type": "execute_result"
    }
   ],
   "source": [
    "#show 5 data teratas\n",
    "jamkes.head()"
   ]
  },
  {
   "cell_type": "code",
   "execution_count": 252,
   "metadata": {},
   "outputs": [
    {
     "data": {
      "text/html": [
       "<div>\n",
       "<style scoped>\n",
       "    .dataframe tbody tr th:only-of-type {\n",
       "        vertical-align: middle;\n",
       "    }\n",
       "\n",
       "    .dataframe tbody tr th {\n",
       "        vertical-align: top;\n",
       "    }\n",
       "\n",
       "    .dataframe thead th {\n",
       "        text-align: right;\n",
       "    }\n",
       "</style>\n",
       "<table border=\"1\" class=\"dataframe\">\n",
       "  <thead>\n",
       "    <tr style=\"text-align: right;\">\n",
       "      <th></th>\n",
       "      <th>kode_provinsi</th>\n",
       "      <th>nama_provinsi</th>\n",
       "      <th>kode_kabupaten_kota</th>\n",
       "      <th>nama_kabupaten_kota</th>\n",
       "      <th>jaminan_kesehatan</th>\n",
       "      <th>jumlah_penduduk</th>\n",
       "      <th>satuan</th>\n",
       "      <th>bps_kota_nama</th>\n",
       "      <th>latitude</th>\n",
       "      <th>longitude</th>\n",
       "    </tr>\n",
       "  </thead>\n",
       "  <tbody>\n",
       "    <tr>\n",
       "      <th>211</th>\n",
       "      <td>32</td>\n",
       "      <td>JAWA BARAT</td>\n",
       "      <td>3279</td>\n",
       "      <td>KOTA BANJAR</td>\n",
       "      <td>PEKERJA BUKAN PENERIMA UPAH (PBPU) / MANDIRI</td>\n",
       "      <td>20395</td>\n",
       "      <td>JIWA</td>\n",
       "      <td>KOTA BANJAR</td>\n",
       "      <td>-7.362487</td>\n",
       "      <td>108.55887</td>\n",
       "    </tr>\n",
       "    <tr>\n",
       "      <th>212</th>\n",
       "      <td>32</td>\n",
       "      <td>JAWA BARAT</td>\n",
       "      <td>3279</td>\n",
       "      <td>KOTA BANJAR</td>\n",
       "      <td>BUKAN PEKERJA (BP)</td>\n",
       "      <td>4308</td>\n",
       "      <td>JIWA</td>\n",
       "      <td>KOTA BANJAR</td>\n",
       "      <td>-7.362487</td>\n",
       "      <td>108.55887</td>\n",
       "    </tr>\n",
       "    <tr>\n",
       "      <th>213</th>\n",
       "      <td>32</td>\n",
       "      <td>JAWA BARAT</td>\n",
       "      <td>3279</td>\n",
       "      <td>KOTA BANJAR</td>\n",
       "      <td>JAMKESDA</td>\n",
       "      <td>11044</td>\n",
       "      <td>JIWA</td>\n",
       "      <td>KOTA BANJAR</td>\n",
       "      <td>-7.362487</td>\n",
       "      <td>108.55887</td>\n",
       "    </tr>\n",
       "    <tr>\n",
       "      <th>214</th>\n",
       "      <td>32</td>\n",
       "      <td>JAWA BARAT</td>\n",
       "      <td>3279</td>\n",
       "      <td>KOTA BANJAR</td>\n",
       "      <td>ASURANSI SWASTA</td>\n",
       "      <td>0</td>\n",
       "      <td>JIWA</td>\n",
       "      <td>KOTA BANJAR</td>\n",
       "      <td>-7.362487</td>\n",
       "      <td>108.55887</td>\n",
       "    </tr>\n",
       "    <tr>\n",
       "      <th>215</th>\n",
       "      <td>32</td>\n",
       "      <td>JAWA BARAT</td>\n",
       "      <td>3279</td>\n",
       "      <td>KOTA BANJAR</td>\n",
       "      <td>ASURANSI PERUSAHAAN</td>\n",
       "      <td>0</td>\n",
       "      <td>JIWA</td>\n",
       "      <td>KOTA BANJAR</td>\n",
       "      <td>-7.362487</td>\n",
       "      <td>108.55887</td>\n",
       "    </tr>\n",
       "  </tbody>\n",
       "</table>\n",
       "</div>"
      ],
      "text/plain": [
       "     kode_provinsi nama_provinsi  kode_kabupaten_kota nama_kabupaten_kota  \\\n",
       "211             32    JAWA BARAT                 3279         KOTA BANJAR   \n",
       "212             32    JAWA BARAT                 3279         KOTA BANJAR   \n",
       "213             32    JAWA BARAT                 3279         KOTA BANJAR   \n",
       "214             32    JAWA BARAT                 3279         KOTA BANJAR   \n",
       "215             32    JAWA BARAT                 3279         KOTA BANJAR   \n",
       "\n",
       "                                jaminan_kesehatan  jumlah_penduduk satuan  \\\n",
       "211  PEKERJA BUKAN PENERIMA UPAH (PBPU) / MANDIRI            20395   JIWA   \n",
       "212                            BUKAN PEKERJA (BP)             4308   JIWA   \n",
       "213                                      JAMKESDA            11044   JIWA   \n",
       "214                               ASURANSI SWASTA                0   JIWA   \n",
       "215                           ASURANSI PERUSAHAAN                0   JIWA   \n",
       "\n",
       "    bps_kota_nama  latitude  longitude  \n",
       "211   KOTA BANJAR -7.362487  108.55887  \n",
       "212   KOTA BANJAR -7.362487  108.55887  \n",
       "213   KOTA BANJAR -7.362487  108.55887  \n",
       "214   KOTA BANJAR -7.362487  108.55887  \n",
       "215   KOTA BANJAR -7.362487  108.55887  "
      ]
     },
     "execution_count": 252,
     "metadata": {},
     "output_type": "execute_result"
    }
   ],
   "source": [
    "#show 5 data terbawah\n",
    "jamkes.tail()"
   ]
  },
  {
   "attachments": {},
   "cell_type": "markdown",
   "metadata": {},
   "source": [
    "## Preprocessing Data Jamkes"
   ]
  },
  {
   "cell_type": "code",
   "execution_count": 253,
   "metadata": {},
   "outputs": [
    {
     "name": "stdout",
     "output_type": "stream",
     "text": [
      "216 Baris\n",
      "10 Kolom\n"
     ]
    }
   ],
   "source": [
    "#cek jumlah baris dan kolom\n",
    "baris, kolom = jamkes.shape\n",
    "print(baris, 'Baris')\n",
    "print(kolom, 'Kolom')"
   ]
  },
  {
   "cell_type": "code",
   "execution_count": 254,
   "metadata": {},
   "outputs": [
    {
     "data": {
      "text/plain": [
       "Index(['kode_provinsi', 'nama_provinsi', 'kode_kabupaten_kota',\n",
       "       'nama_kabupaten_kota', 'jaminan_kesehatan', 'jumlah_penduduk', 'satuan',\n",
       "       'bps_kota_nama', 'latitude', 'longitude'],\n",
       "      dtype='object')"
      ]
     },
     "execution_count": 254,
     "metadata": {},
     "output_type": "execute_result"
    }
   ],
   "source": [
    "#cek kolom dataset\n",
    "jamkes.columns"
   ]
  },
  {
   "cell_type": "code",
   "execution_count": 255,
   "metadata": {},
   "outputs": [
    {
     "name": "stdout",
     "output_type": "stream",
     "text": [
      "<class 'pandas.core.frame.DataFrame'>\n",
      "Int64Index: 216 entries, 0 to 215\n",
      "Data columns (total 10 columns):\n",
      " #   Column               Non-Null Count  Dtype  \n",
      "---  ------               --------------  -----  \n",
      " 0   kode_provinsi        216 non-null    int64  \n",
      " 1   nama_provinsi        216 non-null    object \n",
      " 2   kode_kabupaten_kota  216 non-null    int64  \n",
      " 3   nama_kabupaten_kota  216 non-null    object \n",
      " 4   jaminan_kesehatan    216 non-null    object \n",
      " 5   jumlah_penduduk      216 non-null    int64  \n",
      " 6   satuan               216 non-null    object \n",
      " 7   bps_kota_nama        216 non-null    object \n",
      " 8   latitude             216 non-null    float64\n",
      " 9   longitude            216 non-null    float64\n",
      "dtypes: float64(2), int64(3), object(5)\n",
      "memory usage: 18.6+ KB\n"
     ]
    }
   ],
   "source": [
    "#cek info data jamkes\n",
    "jamkes.info()"
   ]
  },
  {
   "cell_type": "code",
   "execution_count": 256,
   "metadata": {},
   "outputs": [],
   "source": [
    "#hapus kolom yang tidak diperlukan\n",
    "jamkes.drop(['kode_provinsi','nama_provinsi','satuan','bps_kota_nama'], inplace=True,axis=1)"
   ]
  },
  {
   "cell_type": "code",
   "execution_count": 257,
   "metadata": {},
   "outputs": [
    {
     "name": "stdout",
     "output_type": "stream",
     "text": [
      "<class 'pandas.core.frame.DataFrame'>\n",
      "Int64Index: 216 entries, 0 to 215\n",
      "Data columns (total 6 columns):\n",
      " #   Column               Non-Null Count  Dtype  \n",
      "---  ------               --------------  -----  \n",
      " 0   kode_kabupaten_kota  216 non-null    int64  \n",
      " 1   nama_kabupaten_kota  216 non-null    object \n",
      " 2   jaminan_kesehatan    216 non-null    object \n",
      " 3   jumlah_penduduk      216 non-null    int64  \n",
      " 4   latitude             216 non-null    float64\n",
      " 5   longitude            216 non-null    float64\n",
      "dtypes: float64(2), int64(2), object(2)\n",
      "memory usage: 11.8+ KB\n"
     ]
    }
   ],
   "source": [
    "#cek kembali dataset\n",
    "jamkes.info()"
   ]
  },
  {
   "cell_type": "code",
   "execution_count": 258,
   "metadata": {},
   "outputs": [
    {
     "data": {
      "text/plain": [
       "kode_kabupaten_kota    0\n",
       "nama_kabupaten_kota    0\n",
       "jaminan_kesehatan      0\n",
       "jumlah_penduduk        0\n",
       "latitude               0\n",
       "longitude              0\n",
       "dtype: int64"
      ]
     },
     "execution_count": 258,
     "metadata": {},
     "output_type": "execute_result"
    }
   ],
   "source": [
    "#cek missing value\n",
    "jamkes.isnull().sum()"
   ]
  },
  {
   "cell_type": "code",
   "execution_count": 259,
   "metadata": {},
   "outputs": [
    {
     "name": "stdout",
     "output_type": "stream",
     "text": [
      "Kolom:  KODE_KABUPATEN_KOTA\n",
      "[3201 3202 3203 3204 3205 3206 3207 3208 3209 3210 3211 3212 3213 3214\n",
      " 3215 3216 3217 3218 3271 3272 3273 3274 3275 3276 3277 3278 3279]\n",
      "====================================================================================================\n",
      "Kolom:  NAMA_KABUPATEN_KOTA\n",
      "['KABUPATEN BOGOR' 'KABUPATEN SUKABUMI' 'KABUPATEN CIANJUR'\n",
      " 'KABUPATEN BANDUNG' 'KABUPATEN GARUT' 'KABUPATEN TASIKMALAYA'\n",
      " 'KABUPATEN CIAMIS' 'KABUPATEN KUNINGAN' 'KABUPATEN CIREBON'\n",
      " 'KABUPATEN MAJALENGKA' 'KABUPATEN SUMEDANG' 'KABUPATEN INDRAMAYU'\n",
      " 'KABUPATEN SUBANG' 'KABUPATEN PURWAKARTA' 'KABUPATEN KARAWANG'\n",
      " 'KABUPATEN BEKASI' 'KABUPATEN BANDUNG BARAT' 'KABUPATEN PANGANDARAN'\n",
      " 'KOTA BOGOR' 'KOTA SUKABUMI' 'KOTA BANDUNG' 'KOTA CIREBON' 'KOTA BEKASI'\n",
      " 'KOTA DEPOK' 'KOTA CIMAHI' 'KOTA TASIKMALAYA' 'KOTA BANJAR']\n",
      "====================================================================================================\n",
      "Kolom:  JAMINAN_KESEHATAN\n",
      "['PENERIMA BANTUAN IURAN (PBI) APBN' 'PENERIMA BANTUAN IURAN (PBI) APBD'\n",
      " 'PEKERJA PENERIMA UPAH (PPU)'\n",
      " 'PEKERJA BUKAN PENERIMA UPAH (PBPU) / MANDIRI' 'BUKAN PEKERJA (BP)'\n",
      " 'JAMKESDA' 'ASURANSI SWASTA' 'ASURANSI PERUSAHAAN']\n",
      "====================================================================================================\n",
      "Kolom:  JUMLAH_PENDUDUK\n",
      "[1119615  546641  792374  999677   58725       0 1298176  396133  412023\n",
      "  236725   31804 1212019  110645  273979  179023   37527 1211810  108306\n",
      "  566047  368005   68249     272 1316749   27714  269817  186624   50814\n",
      "  779166   83693   77446   64208   26998  588681   34280   71769   51159\n",
      "   35066  537306   21749   90546  176186   27435   29885 1193877  309627\n",
      "  294347  338063   28838  521190   46752  161000  160052   22641  402250\n",
      "   55824  197586  150302   34342  892913  161654  165256  155893   17494\n",
      "   51860  288674  164308   27990     290   80035  234250  152173   16153\n",
      "  966444  103184  583337  351338   23544  611002  473044  975322  452909\n",
      "   17983  550973   50664  157981  135942   20267  221608   69277   36009\n",
      "   26248   33798    5575  255517  186344  278906  232307   32719  118809\n",
      "   42725   91276   51984   11601  423291  457501  777353  531391  114143\n",
      "  108360   80153   91397   44916   13953  396204   13523  353616  551830\n",
      "   51155  586180  282538  179136  590860  464048   50758  126927   15689\n",
      "  205605  114892   25138  272055   56426  123262   55915   18720   56238\n",
      "   10959   26041   20395    4308   11044]\n",
      "====================================================================================================\n",
      "Kolom:  LATITUDE\n",
      "[-6.479679 -6.915727 -6.822558 -7.012851 -7.202988 -7.361212 -7.325788\n",
      " -6.976233 -6.764507 -6.836531 -6.861126 -6.327234 -6.571549 -6.551701\n",
      " -6.301721 -6.364614 -6.840651 -7.701397 -6.594946 -6.918366 -6.910786\n",
      " -6.707076 -6.236221 -6.394473 -6.87121  -7.316436 -7.362487]\n",
      "====================================================================================================\n",
      "Kolom:  LONGITUDE\n",
      "[106.824965 106.932576 107.139542 107.528627 107.885592 108.112488\n",
      " 108.3514   108.482982 108.478858 108.227876 107.920102 108.322903\n",
      " 107.762495 107.446541 107.30529  107.172509 107.512302 108.495155\n",
      " 106.794913 106.931496 107.609757 108.557818 106.994293 106.822692\n",
      " 107.555486 108.1971   108.55887 ]\n",
      "====================================================================================================\n"
     ]
    }
   ],
   "source": [
    "#cek nilai unik\n",
    "for col in jamkes:\n",
    "    print('Kolom: ', col.upper())\n",
    "    print(jamkes[col].unique())\n",
    "    print('='*100)"
   ]
  },
  {
   "attachments": {},
   "cell_type": "markdown",
   "metadata": {},
   "source": [
    "Tidak terlihat adanya nilai unik"
   ]
  },
  {
   "cell_type": "code",
   "execution_count": 260,
   "metadata": {},
   "outputs": [
    {
     "data": {
      "text/plain": [
       "0"
      ]
     },
     "execution_count": 260,
     "metadata": {},
     "output_type": "execute_result"
    }
   ],
   "source": [
    "#cek data duplikat\n",
    "jamkes.duplicated().sum()"
   ]
  },
  {
   "attachments": {},
   "cell_type": "markdown",
   "metadata": {},
   "source": [
    "Data tidak ada yang duplikat. Selain itu, missing valuenya juga tidak ada. Maka dapat dipastikan data ini sudah bersih. Selanjutnya kita export ke file .csv"
   ]
  },
  {
   "attachments": {},
   "cell_type": "markdown",
   "metadata": {},
   "source": [
    "## Export data hasil cleaning"
   ]
  },
  {
   "cell_type": "code",
   "execution_count": 261,
   "metadata": {},
   "outputs": [],
   "source": [
    "jamkes.to_csv('Data Jamkes Clean.csv',index=False)"
   ]
  }
 ],
 "metadata": {
  "kernelspec": {
   "display_name": "Python 3",
   "language": "python",
   "name": "python3"
  },
  "language_info": {
   "codemirror_mode": {
    "name": "ipython",
    "version": 3
   },
   "file_extension": ".py",
   "mimetype": "text/x-python",
   "name": "python",
   "nbconvert_exporter": "python",
   "pygments_lexer": "ipython3",
   "version": "3.10.6"
  },
  "orig_nbformat": 4
 },
 "nbformat": 4,
 "nbformat_minor": 2
}
